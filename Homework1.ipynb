{
  "nbformat": 4,
  "nbformat_minor": 0,
  "metadata": {
    "colab": {
      "name": "Homework1.ipynb",
      "provenance": [],
      "collapsed_sections": [],
      "include_colab_link": true
    },
    "kernelspec": {
      "name": "python3",
      "display_name": "Python 3"
    },
    "language_info": {
      "name": "python"
    }
  },
  "cells": [
    {
      "cell_type": "markdown",
      "metadata": {
        "id": "view-in-github",
        "colab_type": "text"
      },
      "source": [
        "<a href=\"https://colab.research.google.com/github/iBakhtiyar/HW1new/blob/main/Homework1.ipynb\" target=\"_parent\"><img src=\"https://colab.research.google.com/assets/colab-badge.svg\" alt=\"Open In Colab\"/></a>"
      ]
    },
    {
      "cell_type": "code",
      "execution_count": 3,
      "metadata": {
        "colab": {
          "base_uri": "https://localhost:8080/"
        },
        "id": "jrVeHsm1rpdT",
        "outputId": "dc05d018-3ee8-4772-c526-963f6642d26d"
      },
      "outputs": [
        {
          "output_type": "stream",
          "name": "stdout",
          "text": [
            "What is your name? Bakhtiyar\n",
            "What is your age? 21\n",
            "Your name is Bakhtiyar. Your age is 21\n"
          ]
        }
      ],
      "source": [
        "#Q1-Get your name and age as input and print it in the form like\n",
        "#Your name is Hulisi. Your age is 43\n",
        "name=input('What is your name? ')\n",
        "age=input('What is your age? ')\n",
        "print('Your name is '+name+'. Your age is '+age+''#)"
      ]
    },
    {
      "cell_type": "code",
      "source": [
        "#Q2-Write a if statement for a given two number is equal or not\n",
        "a=43\n",
        "b=54\n",
        "a=43\n",
        "b=54\n",
        "if(a==b):\n",
        " print('These numbers are equal')\n",
        "else:\n",
        " print('These numbers are not equal')"
      ],
      "metadata": {
        "id": "7Sfg03_PuVWa",
        "outputId": "3140e662-5b26-4e5a-cedc-ae5fe5f2f402",
        "colab": {
          "base_uri": "https://localhost:8080/"
        }
      },
      "execution_count": 4,
      "outputs": [
        {
          "output_type": "stream",
          "name": "stdout",
          "text": [
            "These numbers are not equal\n"
          ]
        }
      ]
    },
    {
      "cell_type": "code",
      "source": [
        "#Q3-Write a if statement for first number is greater (a), equal or less than second number.(b)\n",
        "a=43\n",
        "b=54\n",
        "a=43\n",
        "b=54\n",
        "if (a>b):\n",
        " print('The first number is greater than the second number ')\n",
        "elif(a<=b):\n",
        " print('The first number is equal or less than the second number')"
      ],
      "metadata": {
        "id": "NtUibZ07u5gs",
        "outputId": "6da88277-756b-487c-89d1-2ed080d93323",
        "colab": {
          "base_uri": "https://localhost:8080/"
        }
      },
      "execution_count": 5,
      "outputs": [
        {
          "output_type": "stream",
          "name": "stdout",
          "text": [
            "The first number is equal or less than the second number\n"
          ]
        }
      ]
    },
    {
      "cell_type": "code",
      "source": [
        "#Q4- Using for loop, print 1,2,3,4,5\n",
        "for k in range(1,6):\n",
        " print(k)"
      ],
      "metadata": {
        "id": "U1UMQv36wNHP",
        "outputId": "9e793882-bf94-41d2-ef5e-7cfd3138b441",
        "colab": {
          "base_uri": "https://localhost:8080/"
        }
      },
      "execution_count": 7,
      "outputs": [
        {
          "output_type": "stream",
          "name": "stdout",
          "text": [
            "1\n",
            "2\n",
            "3\n",
            "4\n",
            "5\n"
          ]
        }
      ]
    },
    {
      "cell_type": "code",
      "source": [
        "#Q5-Using while loop, print 5,4,3,2,1\n",
        "for k in range (5,0,-1):\n",
        " print(k)"
      ],
      "metadata": {
        "id": "bh5Lga7XxGY8",
        "outputId": "ab38308f-a628-4aa5-8f5d-2406ba9209e1",
        "colab": {
          "base_uri": "https://localhost:8080/"
        }
      },
      "execution_count": 8,
      "outputs": [
        {
          "output_type": "stream",
          "name": "stdout",
          "text": [
            "5\n",
            "4\n",
            "3\n",
            "2\n",
            "1\n"
          ]
        }
      ]
    },
    {
      "cell_type": "code",
      "source": [
        "#Q6- Using for loop, print 10,6,4,2,0\n",
        "#Hint Print if number is not equal to 8.\n",
        "for i in range (11):\n",
        " if (10-i) !=8 and (10-i) %2 == 0:\n",
        " print(10-i)\n"
      ],
      "metadata": {
        "id": "cXTTDS49xSoi",
        "outputId": "67c345bd-15bf-4328-b452-c6fd9f3a5ab7",
        "colab": {
          "base_uri": "https://localhost:8080/",
          "height": 130
        }
      },
      "execution_count": 12,
      "outputs": [
        {
          "output_type": "error",
          "ename": "IndentationError",
          "evalue": "ignored",
          "traceback": [
            "\u001b[0;36m  File \u001b[0;32m\"<ipython-input-12-e364a9ce8dc6>\"\u001b[0;36m, line \u001b[0;32m5\u001b[0m\n\u001b[0;31m    print(10-i)\u001b[0m\n\u001b[0m        ^\u001b[0m\n\u001b[0;31mIndentationError\u001b[0m\u001b[0;31m:\u001b[0m expected an indented block\n"
          ]
        }
      ]
    },
    {
      "cell_type": "code",
      "source": [
        "#Q7-Write a method to calculate age for a given date of birth year.\n",
        "#Use this method on orer to calculate age of person if date of birth is 1944\n",
        "# if age is the name of function, print(age(1944))\n",
        "\n",
        "\n",
        "def age(birthyear):\n",
        " return(2022- birthyear)\n",
        "print(age(1944))\n"
      ],
      "metadata": {
        "id": "geUjb-vuyYbF",
        "outputId": "0e35f6c2-44bd-42e7-bbed-03d4705e8d7f",
        "colab": {
          "base_uri": "https://localhost:8080/"
        }
      },
      "execution_count": 13,
      "outputs": [
        {
          "output_type": "stream",
          "name": "stdout",
          "text": [
            "78\n"
          ]
        }
      ]
    },
    {
      "cell_type": "code",
      "source": [
        "#Q8-Write a class named arithmetic with method for calculating addition, substraction, multiplication and division of two numbers.\n",
        "class arithmetic:\n",
        "  def addition(x,y):\n",
        "    return x+y\n",
        "arithmetic.addition(3,4)\n",
        "class arithmetic:\n",
        " def addition(x,y):\n",
        "return x+y\n",
        "arithmetic.addition(3,4)"
      ],
      "metadata": {
        "id": "YcyFzE3fzC7_",
        "outputId": "3d8bad03-3069-47fe-e982-f93ad96f84d6",
        "colab": {
          "base_uri": "https://localhost:8080/",
          "height": 130
        }
      },
      "execution_count": 15,
      "outputs": [
        {
          "output_type": "error",
          "ename": "IndentationError",
          "evalue": "ignored",
          "traceback": [
            "\u001b[0;36m  File \u001b[0;32m\"<ipython-input-15-e95181181897>\"\u001b[0;36m, line \u001b[0;32m8\u001b[0m\n\u001b[0;31m    return x+y\u001b[0m\n\u001b[0m              ^\u001b[0m\n\u001b[0;31mIndentationError\u001b[0m\u001b[0;31m:\u001b[0m expected an indented block\n"
          ]
        }
      ]
    },
    {
      "cell_type": "code",
      "source": [
        "#Q9- write a for loop or method  to calculate summation of first n numbers\n",
        "#i.e if n=3, it will print or return 6 (1+2+3)\n",
        "n= int(input('Enter number'))\n",
        "sum=0\n",
        "for num in range(1, n+1, 1):\n",
        " sum = sum + num\n",
        "print('Sum of the first',n, 'numbers are:',sum)"
      ],
      "metadata": {
        "id": "AUJWr5YqzadI",
        "outputId": "e18f137b-7be3-40bc-8b98-d17a06a246a9",
        "colab": {
          "base_uri": "https://localhost:8080/"
        }
      },
      "execution_count": 16,
      "outputs": [
        {
          "output_type": "stream",
          "name": "stdout",
          "text": [
            "Enter number7\n",
            "Sum of the first 7 numbers are: 28\n"
          ]
        }
      ]
    },
    {
      "cell_type": "code",
      "source": [
        "#Q10-Generate 10 numbers between 0 and 1 and add into list. Print first three elements of that list. "
      ],
      "metadata": {
        "id": "hmtvJdCL02qx"
      },
      "execution_count": null,
      "outputs": []
    },
    {
      "cell_type": "code",
      "source": [
        "#Q11-For a given number n, print numbers divisible by 3 up to that number(n included)\n",
        "#Example: if n=15, print 3,6,9,12,15\n",
        "#Hint you can use modulus statement (if (i%3==0))\n",
        "n=15\n",
        "n=15\n",
        "n= int(input('Enter number:'))\n",
        "for i in range(1, n+1):\n",
        " if i%3 == 0:\n",
        " print(i)"
      ],
      "metadata": {
        "id": "5O6Y2CujcAAs",
        "outputId": "7feceaa5-9418-427c-ffef-711cbdfaf6ab",
        "colab": {
          "base_uri": "https://localhost:8080/",
          "height": 130
        }
      },
      "execution_count": 19,
      "outputs": [
        {
          "output_type": "error",
          "ename": "IndentationError",
          "evalue": "ignored",
          "traceback": [
            "\u001b[0;36m  File \u001b[0;32m\"<ipython-input-19-f74027c1cdb6>\"\u001b[0;36m, line \u001b[0;32m9\u001b[0m\n\u001b[0;31m    print(i)\u001b[0m\n\u001b[0m        ^\u001b[0m\n\u001b[0;31mIndentationError\u001b[0m\u001b[0;31m:\u001b[0m expected an indented block\n"
          ]
        }
      ]
    }
  ]
}